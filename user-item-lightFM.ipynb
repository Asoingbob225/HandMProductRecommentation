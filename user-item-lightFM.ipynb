{
 "cells": [
  {
   "cell_type": "code",
   "execution_count": 1,
   "metadata": {},
   "outputs": [
    {
     "name": "stderr",
     "output_type": "stream",
     "text": [
      "/Users/yukino/opt/anaconda3/envs/Pytorch-cpu/lib/python3.8/site-packages/lightfm/_lightfm_fast.py:9: UserWarning: LightFM was compiled without OpenMP support. Only a single thread will be used.\n",
      "  warnings.warn(\n"
     ]
    }
   ],
   "source": [
    "import os\n",
    "import tqdm\n",
    "import seaborn as sns\n",
    "\n",
    "import pandas as pd\n",
    "import numpy as np\n",
    "from lightfm import LightFM\n",
    "from lightfm.data import Dataset\n",
    "\n",
    "# Import LightFM's evaluation metrics\n",
    "from lightfm.evaluation import precision_at_k\n",
    "\n",
    "%matplotlib inline\n",
    "SEED = 42\n",
    "np.random.seed(SEED)\n",
    "os.environ['PYTHONHASHSEED'] = str(SEED)"
   ]
  },
  {
   "cell_type": "code",
   "execution_count": 2,
   "metadata": {},
   "outputs": [],
   "source": [
    "K = 50 #recall number\n",
    "EPOCHS = 10\n",
    "\n",
    "# model learning rate\n",
    "LEARNING_RATE = 0.15\n",
    "# no of latent factors\n",
    "NO_COMPONENTS = 20\n",
    "\n",
    "# no of threads to fit model\n",
    "NO_THREADS = 32\n",
    "# regularisation for both user and item features\n",
    "ITEM_ALPHA=1e-6\n",
    "USER_ALPHA=1e-6"
   ]
  },
  {
   "cell_type": "code",
   "execution_count": 3,
   "metadata": {},
   "outputs": [],
   "source": [
    "main_dir = \".dataset\"\n",
    "user = pd.read_csv(main_dir+\"/user.csv\")\n",
    "item = pd.read_csv(main_dir+\"/item.csv\", dtype={'article_id': int})\n",
    "train = pd.read_csv(main_dir+'/transaction.csv', usecols=['t_dat','customer_id','item_id'] ,dtype={'article_id': int}, parse_dates=['t_dat'])"
   ]
  },
  {
   "cell_type": "code",
   "execution_count": 4,
   "metadata": {},
   "outputs": [],
   "source": [
    "train['article_id'] = train['item_id']"
   ]
  },
  {
   "cell_type": "code",
   "execution_count": 5,
   "metadata": {},
   "outputs": [
    {
     "data": {
      "text/html": [
       "<div>\n",
       "<style scoped>\n",
       "    .dataframe tbody tr th:only-of-type {\n",
       "        vertical-align: middle;\n",
       "    }\n",
       "\n",
       "    .dataframe tbody tr th {\n",
       "        vertical-align: top;\n",
       "    }\n",
       "\n",
       "    .dataframe thead th {\n",
       "        text-align: right;\n",
       "    }\n",
       "</style>\n",
       "<table border=\"1\" class=\"dataframe\">\n",
       "  <thead>\n",
       "    <tr style=\"text-align: right;\">\n",
       "      <th></th>\n",
       "      <th>t_dat</th>\n",
       "      <th>customer_id</th>\n",
       "      <th>item_id</th>\n",
       "      <th>article_id</th>\n",
       "    </tr>\n",
       "  </thead>\n",
       "  <tbody>\n",
       "    <tr>\n",
       "      <th>0</th>\n",
       "      <td>2019-09-01</td>\n",
       "      <td>000f7535bdc611ad136a9f04746d6b1431f50a7f60fbbe...</td>\n",
       "      <td>727880001</td>\n",
       "      <td>727880001</td>\n",
       "    </tr>\n",
       "    <tr>\n",
       "      <th>1</th>\n",
       "      <td>2019-09-01</td>\n",
       "      <td>000f7535bdc611ad136a9f04746d6b1431f50a7f60fbbe...</td>\n",
       "      <td>767869001</td>\n",
       "      <td>767869001</td>\n",
       "    </tr>\n",
       "  </tbody>\n",
       "</table>\n",
       "</div>"
      ],
      "text/plain": [
       "       t_dat                                        customer_id    item_id  \\\n",
       "0 2019-09-01  000f7535bdc611ad136a9f04746d6b1431f50a7f60fbbe...  727880001   \n",
       "1 2019-09-01  000f7535bdc611ad136a9f04746d6b1431f50a7f60fbbe...  767869001   \n",
       "\n",
       "   article_id  \n",
       "0   727880001  \n",
       "1   767869001  "
      ]
     },
     "execution_count": 5,
     "metadata": {},
     "output_type": "execute_result"
    }
   ],
   "source": [
    "train.head(2)"
   ]
  },
  {
   "cell_type": "code",
   "execution_count": 5,
   "metadata": {},
   "outputs": [
    {
     "data": {
      "text/html": [
       "<div>\n",
       "<style scoped>\n",
       "    .dataframe tbody tr th:only-of-type {\n",
       "        vertical-align: middle;\n",
       "    }\n",
       "\n",
       "    .dataframe tbody tr th {\n",
       "        vertical-align: top;\n",
       "    }\n",
       "\n",
       "    .dataframe thead th {\n",
       "        text-align: right;\n",
       "    }\n",
       "</style>\n",
       "<table border=\"1\" class=\"dataframe\">\n",
       "  <thead>\n",
       "    <tr style=\"text-align: right;\">\n",
       "      <th></th>\n",
       "      <th>article_id</th>\n",
       "      <th>product_code</th>\n",
       "      <th>prod_name</th>\n",
       "      <th>product_type_no</th>\n",
       "      <th>product_type_name</th>\n",
       "      <th>product_group_name</th>\n",
       "      <th>graphical_appearance_no</th>\n",
       "      <th>graphical_appearance_name</th>\n",
       "      <th>colour_group_code</th>\n",
       "      <th>colour_group_name</th>\n",
       "      <th>...</th>\n",
       "      <th>department_name</th>\n",
       "      <th>index_code</th>\n",
       "      <th>index_name</th>\n",
       "      <th>index_group_no</th>\n",
       "      <th>index_group_name</th>\n",
       "      <th>section_no</th>\n",
       "      <th>section_name</th>\n",
       "      <th>garment_group_no</th>\n",
       "      <th>garment_group_name</th>\n",
       "      <th>detail_desc</th>\n",
       "    </tr>\n",
       "  </thead>\n",
       "  <tbody>\n",
       "    <tr>\n",
       "      <th>0</th>\n",
       "      <td>108775015</td>\n",
       "      <td>108775</td>\n",
       "      <td>Strap top</td>\n",
       "      <td>253</td>\n",
       "      <td>Vest top</td>\n",
       "      <td>Garment Upper body</td>\n",
       "      <td>1010016</td>\n",
       "      <td>Solid</td>\n",
       "      <td>9</td>\n",
       "      <td>Black</td>\n",
       "      <td>...</td>\n",
       "      <td>Jersey Basic</td>\n",
       "      <td>A</td>\n",
       "      <td>Ladieswear</td>\n",
       "      <td>1</td>\n",
       "      <td>Ladieswear</td>\n",
       "      <td>16</td>\n",
       "      <td>Womens Everyday Basics</td>\n",
       "      <td>1002</td>\n",
       "      <td>Jersey Basic</td>\n",
       "      <td>Jersey top with narrow shoulder straps.</td>\n",
       "    </tr>\n",
       "    <tr>\n",
       "      <th>1</th>\n",
       "      <td>108775044</td>\n",
       "      <td>108775</td>\n",
       "      <td>Strap top</td>\n",
       "      <td>253</td>\n",
       "      <td>Vest top</td>\n",
       "      <td>Garment Upper body</td>\n",
       "      <td>1010016</td>\n",
       "      <td>Solid</td>\n",
       "      <td>10</td>\n",
       "      <td>White</td>\n",
       "      <td>...</td>\n",
       "      <td>Jersey Basic</td>\n",
       "      <td>A</td>\n",
       "      <td>Ladieswear</td>\n",
       "      <td>1</td>\n",
       "      <td>Ladieswear</td>\n",
       "      <td>16</td>\n",
       "      <td>Womens Everyday Basics</td>\n",
       "      <td>1002</td>\n",
       "      <td>Jersey Basic</td>\n",
       "      <td>Jersey top with narrow shoulder straps.</td>\n",
       "    </tr>\n",
       "  </tbody>\n",
       "</table>\n",
       "<p>2 rows × 25 columns</p>\n",
       "</div>"
      ],
      "text/plain": [
       "  article_id  product_code  prod_name  product_type_no product_type_name  \\\n",
       "0  108775015        108775  Strap top              253          Vest top   \n",
       "1  108775044        108775  Strap top              253          Vest top   \n",
       "\n",
       "   product_group_name  graphical_appearance_no graphical_appearance_name  \\\n",
       "0  Garment Upper body                  1010016                     Solid   \n",
       "1  Garment Upper body                  1010016                     Solid   \n",
       "\n",
       "   colour_group_code colour_group_name  ...  department_name index_code  \\\n",
       "0                  9             Black  ...     Jersey Basic          A   \n",
       "1                 10             White  ...     Jersey Basic          A   \n",
       "\n",
       "   index_name index_group_no  index_group_name section_no  \\\n",
       "0  Ladieswear              1        Ladieswear         16   \n",
       "1  Ladieswear              1        Ladieswear         16   \n",
       "\n",
       "             section_name garment_group_no  garment_group_name  \\\n",
       "0  Womens Everyday Basics             1002        Jersey Basic   \n",
       "1  Womens Everyday Basics             1002        Jersey Basic   \n",
       "\n",
       "                               detail_desc  \n",
       "0  Jersey top with narrow shoulder straps.  \n",
       "1  Jersey top with narrow shoulder straps.  \n",
       "\n",
       "[2 rows x 25 columns]"
      ]
     },
     "execution_count": 5,
     "metadata": {},
     "output_type": "execute_result"
    }
   ],
   "source": [
    "item.head(2)"
   ]
  },
  {
   "cell_type": "code",
   "execution_count": 6,
   "metadata": {},
   "outputs": [
    {
     "data": {
      "text/html": [
       "<div>\n",
       "<style scoped>\n",
       "    .dataframe tbody tr th:only-of-type {\n",
       "        vertical-align: middle;\n",
       "    }\n",
       "\n",
       "    .dataframe tbody tr th {\n",
       "        vertical-align: top;\n",
       "    }\n",
       "\n",
       "    .dataframe thead th {\n",
       "        text-align: right;\n",
       "    }\n",
       "</style>\n",
       "<table border=\"1\" class=\"dataframe\">\n",
       "  <thead>\n",
       "    <tr style=\"text-align: right;\">\n",
       "      <th></th>\n",
       "      <th>customer_id</th>\n",
       "      <th>FN</th>\n",
       "      <th>Active</th>\n",
       "      <th>club_member_status</th>\n",
       "      <th>fashion_news_frequency</th>\n",
       "      <th>age</th>\n",
       "      <th>postal_code</th>\n",
       "    </tr>\n",
       "  </thead>\n",
       "  <tbody>\n",
       "    <tr>\n",
       "      <th>0</th>\n",
       "      <td>00000dbacae5abe5e23885899a1fa44253a17956c6d1c3...</td>\n",
       "      <td>NaN</td>\n",
       "      <td>NaN</td>\n",
       "      <td>ACTIVE</td>\n",
       "      <td>NONE</td>\n",
       "      <td>49.0</td>\n",
       "      <td>52043ee2162cf5aa7ee79974281641c6f11a68d276429a...</td>\n",
       "    </tr>\n",
       "    <tr>\n",
       "      <th>1</th>\n",
       "      <td>0000423b00ade91418cceaf3b26c6af3dd342b51fd051e...</td>\n",
       "      <td>NaN</td>\n",
       "      <td>NaN</td>\n",
       "      <td>ACTIVE</td>\n",
       "      <td>NONE</td>\n",
       "      <td>25.0</td>\n",
       "      <td>2973abc54daa8a5f8ccfe9362140c63247c5eee03f1d93...</td>\n",
       "    </tr>\n",
       "  </tbody>\n",
       "</table>\n",
       "</div>"
      ],
      "text/plain": [
       "                                         customer_id  FN  Active  \\\n",
       "0  00000dbacae5abe5e23885899a1fa44253a17956c6d1c3... NaN     NaN   \n",
       "1  0000423b00ade91418cceaf3b26c6af3dd342b51fd051e... NaN     NaN   \n",
       "\n",
       "  club_member_status fashion_news_frequency   age  \\\n",
       "0             ACTIVE                   NONE  49.0   \n",
       "1             ACTIVE                   NONE  25.0   \n",
       "\n",
       "                                         postal_code  \n",
       "0  52043ee2162cf5aa7ee79974281641c6f11a68d276429a...  \n",
       "1  2973abc54daa8a5f8ccfe9362140c63247c5eee03f1d93...  "
      ]
     },
     "execution_count": 6,
     "metadata": {},
     "output_type": "execute_result"
    }
   ],
   "source": [
    "user.head(2)"
   ]
  },
  {
   "cell_type": "code",
   "execution_count": 5,
   "metadata": {},
   "outputs": [
    {
     "name": "stdout",
     "output_type": "stream",
     "text": [
      "2019-09-01 00:00:00 2020-09-22 00:00:00\n"
     ]
    }
   ],
   "source": [
    "train['t_dat'] = pd.to_datetime(train['t_dat'])\n",
    "last_date = train['t_dat'].max()\n",
    "first_date = train['t_dat'].min()\n",
    "print(first_date,last_date)"
   ]
  },
  {
   "cell_type": "code",
   "execution_count": 6,
   "metadata": {},
   "outputs": [],
   "source": [
    "# calculate week number\n",
    "train['week'] = (last_date - pd.to_datetime(train['t_dat'])).dt.days // 7"
   ]
  },
  {
   "cell_type": "code",
   "execution_count": 7,
   "metadata": {},
   "outputs": [],
   "source": [
    "# set item features\n",
    "def create_item_features(row):\n",
    "    features = [\n",
    "        f\"product_code:{row['product_code']}\",\n",
    "        f\"section_no:{row['section_no']}\",\n",
    "        f\"colour_group_code:{row['colour_group_code']}\",\n",
    "        f\"perceived_colour_value_id:{row['perceived_colour_value_id']}\",\n",
    "        f\"index_code:{row['index_code']}\",\n",
    "        f\"product_type_no:{row['product_type_no']}\",\n",
    "        f\"department_no:{row['department_no']}\",\n",
    "        f\"garment_group_no:{row['garment_group_no']}\",\n",
    "        f\"graphical_appearance_no:{row['graphical_appearance_no']}\",\n",
    "    ]\n",
    "    return features\n",
    "\n",
    "\n",
    "item['features'] = item.apply(create_item_features, axis=1)\n"
   ]
  },
  {
   "cell_type": "code",
   "execution_count": 8,
   "metadata": {},
   "outputs": [
    {
     "data": {
      "text/plain": [
       "0        None\n",
       "1        None\n",
       "2        None\n",
       "3        None\n",
       "4        None\n",
       "         ... \n",
       "70936    None\n",
       "70937    None\n",
       "70938    None\n",
       "70939    None\n",
       "70940    None\n",
       "Name: features, Length: 70941, dtype: object"
      ]
     },
     "execution_count": 8,
     "metadata": {},
     "output_type": "execute_result"
    }
   ],
   "source": [
    "all_features = set()\n",
    "item['features'].apply(lambda x: all_features.update(x))"
   ]
  },
  {
   "cell_type": "code",
   "execution_count": 9,
   "metadata": {},
   "outputs": [
    {
     "data": {
      "text/plain": [
       "0         None\n",
       "1         None\n",
       "2         None\n",
       "3         None\n",
       "4         None\n",
       "          ... \n",
       "594376    None\n",
       "594377    None\n",
       "594378    None\n",
       "594379    None\n",
       "594380    None\n",
       "Name: features, Length: 594381, dtype: object"
      ]
     },
     "execution_count": 9,
     "metadata": {},
     "output_type": "execute_result"
    }
   ],
   "source": [
    "# set item features\n",
    "def create_user_features(row):\n",
    "    features = [\n",
    "        f\"FN:{row['FN']}\",\n",
    "        f\"Active:{row['Active']}\",\n",
    "        f\"club_member_status:{row['club_member_status']}\",\n",
    "        f\"fashion_news_frequency:{row['fashion_news_frequency']}\",\n",
    "        f\"age:{row['age']}\",\n",
    "        f\"postal_code:{row['postal_code']}\",\n",
    "      \n",
    "    ]\n",
    "    return features\n",
    "\n",
    "user['features'] = user.apply(create_user_features, axis=1)\n",
    "all_user_features = set()\n",
    "user['features'].apply(lambda x: all_user_features.update(x))\n"
   ]
  },
  {
   "cell_type": "code",
   "execution_count": 10,
   "metadata": {},
   "outputs": [],
   "source": [
    "listBin = [-1, 19, 29, 39, 49, 59, 69, 119]\n",
    "user['age'] = pd.cut(user['age'], listBin)"
   ]
  },
  {
   "cell_type": "code",
   "execution_count": 11,
   "metadata": {},
   "outputs": [
    {
     "name": "stdout",
     "output_type": "stream",
     "text": [
      "Number of users: 594381, Number of topics: 70941.\n"
     ]
    }
   ],
   "source": [
    "dataset = Dataset()\n",
    "dataset.fit(users=user['customer_id'], \n",
    "            user_features=(x for x in all_user_features),\n",
    "            items=item['article_id'],\n",
    "            item_features=(x for x in all_features))\n",
    "num_users, num_topics = dataset.interactions_shape()\n",
    "print(f'Number of users: {num_users}, Number of topics: {num_topics}.')"
   ]
  },
  {
   "cell_type": "code",
   "execution_count": 12,
   "metadata": {},
   "outputs": [],
   "source": [
    "#build item & user Features\n",
    "item_features_data = ((row['article_id'], row['features']) for index, row in item.iterrows())\n",
    "item_features = dataset.build_item_features(item_features_data)\n",
    "user_features_data = ((row['customer_id'], row['features']) for index, row in user.iterrows())\n",
    "user_features = dataset.build_user_features(user_features_data)"
   ]
  },
  {
   "cell_type": "code",
   "execution_count": null,
   "metadata": {},
   "outputs": [],
   "source": [
    "from tqdm.notebook import tqdm\n",
    "tqdm.pandas()\n",
    "\n",
    "def generate_predictions(dataset, model, val_set, K, batch_size=100):\n",
    "    \"\"\"\n",
    "    Optimized function to generate top K predictions for all users in the validation set.\n",
    "\n",
    "    Args:\n",
    "        dataset: The dataset object containing mappings.\n",
    "        model: The trained recommendation model.\n",
    "        val_set: The validation set containing customer IDs.\n",
    "        K: The number of top items to predict.\n",
    "        batch_size: The number of user IDs to process in each batch.\n",
    "\n",
    "    Returns:\n",
    "        DataFrame: The validation set with an additional column for predictions.\n",
    "    \"\"\"\n",
    "\n",
    "    uid_map, _, iid_map, _ = dataset.mapping()\n",
    "    inv_uid_map = {v: k for k, v in uid_map.items()}\n",
    "    inv_iid_map = {v: k for k, v in iid_map.items()}\n",
    "    \n",
    "    # Preparing item data\n",
    "    all_item_ids_model = list(iid_map.values())\n",
    "    item_ids = np.array(all_item_ids_model)\n",
    "    \n",
    "    predictions = []\n",
    "\n",
    "    customer_ids = val_set['customer_id'].unique()\n",
    "    num_batches = len(customer_ids) // batch_size + (1 if len(customer_ids) % batch_size != 0 else 0)\n",
    "    \n",
    "    for i in tqdm(range(num_batches), desc=\"Predicting\"):\n",
    "        start_index = i * batch_size\n",
    "        end_index = start_index + batch_size\n",
    "        batch_customer_ids = customer_ids[start_index:end_index]\n",
    "        \n",
    "        batch_user_ids_model = np.array([uid_map[cid] for cid in batch_customer_ids])\n",
    "        \n",
    "        # Repeating user IDs for each item\n",
    "        user_ids = np.repeat(batch_user_ids_model, len(all_item_ids_model))\n",
    "        item_ids_batch = np.tile(item_ids, len(batch_customer_ids))\n",
    "        \n",
    "        batch_predictions = model.predict(\n",
    "            user_ids=user_ids,\n",
    "            item_ids=item_ids_batch,\n",
    "            user_features=user_features,\n",
    "            item_features=item_features,\n",
    "            num_threads=16\n",
    "        )\n",
    "        \n",
    "        \n",
    "        batch_predictions = batch_predictions.reshape(len(batch_customer_ids), len(all_item_ids_model))\n",
    "        \n",
    "        # Extracting top K items for each user in the batch\n",
    "        for user_predictions in batch_predictions:\n",
    "            top_k_item_indices = np.argsort(-user_predictions)[:K]\n",
    "            top_k_item_ids_model = item_ids[top_k_item_indices]\n",
    "            top_k_item_ids_original = [inv_iid_map[item_id] for item_id in top_k_item_ids_model]\n",
    "            prediction_str = ' '.join(str(item_id) for item_id in top_k_item_ids_original)\n",
    "            predictions.append(prediction_str)\n",
    "    \n",
    "    val_set['prediction'] = predictions\n",
    "    return val_set\n",
    "\n"
   ]
  },
  {
   "cell_type": "code",
   "execution_count": 13,
   "metadata": {},
   "outputs": [],
   "source": [
    "from joblib import dump, load"
   ]
  },
  {
   "cell_type": "code",
   "execution_count": 14,
   "metadata": {},
   "outputs": [],
   "source": [
    "recall_weeks = [0,1,2,3,4]\n",
    "week_nums = 23"
   ]
  },
  {
   "cell_type": "code",
   "execution_count": 15,
   "metadata": {},
   "outputs": [
    {
     "name": "stdout",
     "output_type": "stream",
     "text": [
      "(594381, 70941)\n"
     ]
    },
    {
     "name": "stderr",
     "output_type": "stream",
     "text": [
      "Epoch: 100%|██████████| 10/10 [07:21<00:00, 44.14s/it]\n"
     ]
    },
    {
     "name": "stdout",
     "output_type": "stream",
     "text": [
      "(594381, 70941)\n"
     ]
    },
    {
     "name": "stderr",
     "output_type": "stream",
     "text": [
      "Epoch: 100%|██████████| 10/10 [07:28<00:00, 44.83s/it]\n"
     ]
    },
    {
     "name": "stdout",
     "output_type": "stream",
     "text": [
      "(594381, 70941)\n"
     ]
    },
    {
     "name": "stderr",
     "output_type": "stream",
     "text": [
      "Epoch: 100%|██████████| 10/10 [07:29<00:00, 44.92s/it]\n"
     ]
    },
    {
     "name": "stdout",
     "output_type": "stream",
     "text": [
      "(594381, 70941)\n"
     ]
    },
    {
     "name": "stderr",
     "output_type": "stream",
     "text": [
      "Epoch: 100%|██████████| 10/10 [06:52<00:00, 41.29s/it]\n"
     ]
    },
    {
     "name": "stdout",
     "output_type": "stream",
     "text": [
      "(594381, 70941)\n"
     ]
    },
    {
     "name": "stderr",
     "output_type": "stream",
     "text": [
      "Epoch: 100%|██████████| 10/10 [06:20<00:00, 38.05s/it]\n"
     ]
    }
   ],
   "source": [
    "#train_model\n",
    "for week in recall_weeks:\n",
    "    #For the training of the recall model, we can include this week's actual order data, \n",
    "    # because our goal is just to find similar items to recommend as candidates.\n",
    "    train_set = train[(train['week']>=week) & (train['week']<=(week+week_nums))]\n",
    "    train_set = train_set[['customer_id','article_id']]\n",
    "    #However, the label is prepared for the ranking model, so it cannot include data from this week or in the future.\n",
    "    label_set = train[train['week']==week]\n",
    "    label_set_grouped = label_set.groupby('customer_id')['article_id'].agg(list).reset_index()\n",
    "    label_set = label_set.drop('article_id', axis=1).merge(label_set_grouped, on='customer_id')\n",
    "    label_set['label'] = label_set['article_id'].apply(lambda x:list(set(x)))\n",
    "    label_set = label_set.drop(['item_id','t_dat','article_id'],axis=1).drop_duplicates(subset=['customer_id', 'week'])\n",
    "    #start to train the recall model and predict the candidates.\n",
    "    #build interactions for CF algorithm\n",
    "    (interactions, weights) = dataset.build_interactions(train_set.values)\n",
    "    #(val_interactions, val_weights) = dataset.build_interactions(val_set.iloc[:, 1:3].values)\n",
    "    print(interactions.shape)\n",
    "    model = LightFM(loss='warp', no_components=NO_COMPONENTS, \n",
    "                 learning_rate=LEARNING_RATE,                 \n",
    "                 random_state=np.random.RandomState(SEED))\n",
    "    model.fit(interactions=interactions, item_features=item_features,user_features=user_features,epochs=EPOCHS, verbose=1)  \n",
    "    dump(model, f'uiCF_recall_{week}.joblib')\n",
    "\n",
    "    \n",
    "        \n",
    "    "
   ]
  },
  {
   "cell_type": "code",
   "execution_count": null,
   "metadata": {},
   "outputs": [],
   "source": []
  },
  {
   "cell_type": "code",
   "execution_count": null,
   "metadata": {},
   "outputs": [],
   "source": []
  }
 ],
 "metadata": {
  "kernelspec": {
   "display_name": "Pytorch-cpu",
   "language": "python",
   "name": "python3"
  },
  "language_info": {
   "codemirror_mode": {
    "name": "ipython",
    "version": 3
   },
   "file_extension": ".py",
   "mimetype": "text/x-python",
   "name": "python",
   "nbconvert_exporter": "python",
   "pygments_lexer": "ipython3",
   "version": "3.8.10"
  }
 },
 "nbformat": 4,
 "nbformat_minor": 2
}
