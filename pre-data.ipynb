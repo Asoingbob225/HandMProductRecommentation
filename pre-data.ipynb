{
 "cells": [
  {
   "cell_type": "code",
   "execution_count": 1,
   "metadata": {},
   "outputs": [],
   "source": [
    "import pandas as pd\n",
    "import numpy as np\n",
    "import datetime\n",
    "from tqdm import tqdm"
   ]
  },
  {
   "cell_type": "code",
   "execution_count": 5,
   "metadata": {},
   "outputs": [],
   "source": [
    "user = pd.read_csv('./data/raw/customers.csv')\n",
    "item = pd.read_csv('./data/raw/articles.csv')\n",
    "trans = pd.read_csv('./data/raw/transactions_train_all.csv')"
   ]
  },
  {
   "cell_type": "code",
   "execution_count": 6,
   "metadata": {},
   "outputs": [
    {
     "data": {
      "text/html": [
       "<div>\n",
       "<style scoped>\n",
       "    .dataframe tbody tr th:only-of-type {\n",
       "        vertical-align: middle;\n",
       "    }\n",
       "\n",
       "    .dataframe tbody tr th {\n",
       "        vertical-align: top;\n",
       "    }\n",
       "\n",
       "    .dataframe thead th {\n",
       "        text-align: right;\n",
       "    }\n",
       "</style>\n",
       "<table border=\"1\" class=\"dataframe\">\n",
       "  <thead>\n",
       "    <tr style=\"text-align: right;\">\n",
       "      <th></th>\n",
       "      <th>t_dat</th>\n",
       "      <th>customer_id</th>\n",
       "      <th>article_id</th>\n",
       "      <th>price</th>\n",
       "      <th>sales_channel_id</th>\n",
       "    </tr>\n",
       "  </thead>\n",
       "  <tbody>\n",
       "    <tr>\n",
       "      <th>0</th>\n",
       "      <td>2018-09-20</td>\n",
       "      <td>000058a12d5b43e67d225668fa1f8d618c13dc232df0ca...</td>\n",
       "      <td>663713001</td>\n",
       "      <td>0.050831</td>\n",
       "      <td>2</td>\n",
       "    </tr>\n",
       "    <tr>\n",
       "      <th>1</th>\n",
       "      <td>2018-09-20</td>\n",
       "      <td>000058a12d5b43e67d225668fa1f8d618c13dc232df0ca...</td>\n",
       "      <td>541518023</td>\n",
       "      <td>0.030492</td>\n",
       "      <td>2</td>\n",
       "    </tr>\n",
       "  </tbody>\n",
       "</table>\n",
       "</div>"
      ],
      "text/plain": [
       "        t_dat                                        customer_id  article_id  \\\n",
       "0  2018-09-20  000058a12d5b43e67d225668fa1f8d618c13dc232df0ca...   663713001   \n",
       "1  2018-09-20  000058a12d5b43e67d225668fa1f8d618c13dc232df0ca...   541518023   \n",
       "\n",
       "      price  sales_channel_id  \n",
       "0  0.050831                 2  \n",
       "1  0.030492                 2  "
      ]
     },
     "execution_count": 6,
     "metadata": {},
     "output_type": "execute_result"
    }
   ],
   "source": [
    "trans.head(2)"
   ]
  },
  {
   "cell_type": "code",
   "execution_count": 7,
   "metadata": {},
   "outputs": [],
   "source": [
    "trans['t_dat'] = pd.to_datetime(trans['t_dat'])\n",
    "last_date = trans['t_dat'].max()\n",
    "first_date = trans['t_dat'].min()"
   ]
  },
  {
   "cell_type": "code",
   "execution_count": 8,
   "metadata": {},
   "outputs": [
    {
     "data": {
      "text/plain": [
       "(Timestamp('2018-09-20 00:00:00'), Timestamp('2020-09-22 00:00:00'))"
      ]
     },
     "execution_count": 8,
     "metadata": {},
     "output_type": "execute_result"
    }
   ],
   "source": [
    "(first_date,last_date)"
   ]
  },
  {
   "cell_type": "markdown",
   "metadata": {},
   "source": [
    "Use data from September 15, 2020 to September 22, for testing;\n",
    "August 15, 2020 to September 15 for training; \n",
    "September 1,2019 to August 15,2020 for auxiliary statistical feature construction without participating in training."
   ]
  },
  {
   "cell_type": "code",
   "execution_count": 9,
   "metadata": {},
   "outputs": [],
   "source": [
    "trans2 = trans[(trans['t_dat'] >= '2019-09-01') & (trans['t_dat'] <= '2020-09-30')]"
   ]
  },
  {
   "cell_type": "code",
   "execution_count": 11,
   "metadata": {},
   "outputs": [
    {
     "name": "stderr",
     "output_type": "stream",
     "text": [
      "/var/folders/t0/v5mt2fvx40j4y3x7fqgq6kg00000gn/T/ipykernel_87546/342743874.py:1: SettingWithCopyWarning: \n",
      "A value is trying to be set on a copy of a slice from a DataFrame.\n",
      "Try using .loc[row_indexer,col_indexer] = value instead\n",
      "\n",
      "See the caveats in the documentation: https://pandas.pydata.org/pandas-docs/stable/user_guide/indexing.html#returning-a-view-versus-a-copy\n",
      "  trans2['item_id'] = trans2['article_id']\n"
     ]
    }
   ],
   "source": [
    "trans2['item_id'] = trans2['article_id']\n",
    "trans2_grouped = trans2.groupby('customer_id')['article_id'].agg(list).reset_index()\n",
    "trans2 = trans2.drop('article_id', axis=1).merge(trans2_grouped, on='customer_id')"
   ]
  },
  {
   "cell_type": "code",
   "execution_count": 13,
   "metadata": {},
   "outputs": [],
   "source": [
    "trans2['count'] = trans2['article_id'].apply(lambda x: len(x))"
   ]
  },
  {
   "cell_type": "code",
   "execution_count": 16,
   "metadata": {},
   "outputs": [
    {
     "data": {
      "text/plain": [
       "count    1.567043e+07\n",
       "mean     4.930410e+01\n",
       "std      5.813617e+01\n",
       "min      1.000000e+00\n",
       "25%      1.500000e+01\n",
       "50%      3.200000e+01\n",
       "75%      6.200000e+01\n",
       "max      1.067000e+03\n",
       "Name: count, dtype: float64"
      ]
     },
     "execution_count": 16,
     "metadata": {},
     "output_type": "execute_result"
    }
   ],
   "source": [
    "trans2['count'].describe()"
   ]
  },
  {
   "cell_type": "code",
   "execution_count": 18,
   "metadata": {},
   "outputs": [],
   "source": [
    "trans3 = trans2[(trans2['count']>=6) & (trans2['count']<=100)]"
   ]
  },
  {
   "cell_type": "code",
   "execution_count": 20,
   "metadata": {},
   "outputs": [
    {
     "data": {
      "text/html": [
       "<div>\n",
       "<style scoped>\n",
       "    .dataframe tbody tr th:only-of-type {\n",
       "        vertical-align: middle;\n",
       "    }\n",
       "\n",
       "    .dataframe tbody tr th {\n",
       "        vertical-align: top;\n",
       "    }\n",
       "\n",
       "    .dataframe thead th {\n",
       "        text-align: right;\n",
       "    }\n",
       "</style>\n",
       "<table border=\"1\" class=\"dataframe\">\n",
       "  <thead>\n",
       "    <tr style=\"text-align: right;\">\n",
       "      <th></th>\n",
       "      <th>t_dat</th>\n",
       "      <th>customer_id</th>\n",
       "      <th>price</th>\n",
       "      <th>sales_channel_id</th>\n",
       "      <th>item_id</th>\n",
       "      <th>article_id</th>\n",
       "      <th>count</th>\n",
       "    </tr>\n",
       "  </thead>\n",
       "  <tbody>\n",
       "    <tr>\n",
       "      <th>0</th>\n",
       "      <td>2019-09-01</td>\n",
       "      <td>000f7535bdc611ad136a9f04746d6b1431f50a7f60fbbe...</td>\n",
       "      <td>0.016932</td>\n",
       "      <td>1</td>\n",
       "      <td>727880001</td>\n",
       "      <td>[727880001, 767869001, 717490010, 547780022, 8...</td>\n",
       "      <td>24</td>\n",
       "    </tr>\n",
       "    <tr>\n",
       "      <th>1</th>\n",
       "      <td>2019-09-01</td>\n",
       "      <td>000f7535bdc611ad136a9f04746d6b1431f50a7f60fbbe...</td>\n",
       "      <td>0.008458</td>\n",
       "      <td>1</td>\n",
       "      <td>767869001</td>\n",
       "      <td>[727880001, 767869001, 717490010, 547780022, 8...</td>\n",
       "      <td>24</td>\n",
       "    </tr>\n",
       "    <tr>\n",
       "      <th>2</th>\n",
       "      <td>2019-09-01</td>\n",
       "      <td>000f7535bdc611ad136a9f04746d6b1431f50a7f60fbbe...</td>\n",
       "      <td>0.008458</td>\n",
       "      <td>1</td>\n",
       "      <td>717490010</td>\n",
       "      <td>[727880001, 767869001, 717490010, 547780022, 8...</td>\n",
       "      <td>24</td>\n",
       "    </tr>\n",
       "    <tr>\n",
       "      <th>3</th>\n",
       "      <td>2019-09-01</td>\n",
       "      <td>000f7535bdc611ad136a9f04746d6b1431f50a7f60fbbe...</td>\n",
       "      <td>0.025407</td>\n",
       "      <td>1</td>\n",
       "      <td>547780022</td>\n",
       "      <td>[727880001, 767869001, 717490010, 547780022, 8...</td>\n",
       "      <td>24</td>\n",
       "    </tr>\n",
       "    <tr>\n",
       "      <th>4</th>\n",
       "      <td>2019-11-16</td>\n",
       "      <td>000f7535bdc611ad136a9f04746d6b1431f50a7f60fbbe...</td>\n",
       "      <td>0.022017</td>\n",
       "      <td>1</td>\n",
       "      <td>817953001</td>\n",
       "      <td>[727880001, 767869001, 717490010, 547780022, 8...</td>\n",
       "      <td>24</td>\n",
       "    </tr>\n",
       "    <tr>\n",
       "      <th>...</th>\n",
       "      <td>...</td>\n",
       "      <td>...</td>\n",
       "      <td>...</td>\n",
       "      <td>...</td>\n",
       "      <td>...</td>\n",
       "      <td>...</td>\n",
       "      <td>...</td>\n",
       "    </tr>\n",
       "    <tr>\n",
       "      <th>15670405</th>\n",
       "      <td>2020-09-22</td>\n",
       "      <td>fe99a0069d6b3c64c2707d0ce53b9311540917471d82df...</td>\n",
       "      <td>0.033881</td>\n",
       "      <td>2</td>\n",
       "      <td>867969003</td>\n",
       "      <td>[867969008, 562245001, 867969003, 682550002, 5...</td>\n",
       "      <td>7</td>\n",
       "    </tr>\n",
       "    <tr>\n",
       "      <th>15670406</th>\n",
       "      <td>2020-09-22</td>\n",
       "      <td>fe99a0069d6b3c64c2707d0ce53b9311540917471d82df...</td>\n",
       "      <td>0.033881</td>\n",
       "      <td>2</td>\n",
       "      <td>682550002</td>\n",
       "      <td>[867969008, 562245001, 867969003, 682550002, 5...</td>\n",
       "      <td>7</td>\n",
       "    </tr>\n",
       "    <tr>\n",
       "      <th>15670407</th>\n",
       "      <td>2020-09-22</td>\n",
       "      <td>fe99a0069d6b3c64c2707d0ce53b9311540917471d82df...</td>\n",
       "      <td>0.023712</td>\n",
       "      <td>2</td>\n",
       "      <td>562245018</td>\n",
       "      <td>[867969008, 562245001, 867969003, 682550002, 5...</td>\n",
       "      <td>7</td>\n",
       "    </tr>\n",
       "    <tr>\n",
       "      <th>15670408</th>\n",
       "      <td>2020-09-22</td>\n",
       "      <td>fe99a0069d6b3c64c2707d0ce53b9311540917471d82df...</td>\n",
       "      <td>0.042356</td>\n",
       "      <td>2</td>\n",
       "      <td>816598018</td>\n",
       "      <td>[867969008, 562245001, 867969003, 682550002, 5...</td>\n",
       "      <td>7</td>\n",
       "    </tr>\n",
       "    <tr>\n",
       "      <th>15670409</th>\n",
       "      <td>2020-09-22</td>\n",
       "      <td>fe99a0069d6b3c64c2707d0ce53b9311540917471d82df...</td>\n",
       "      <td>0.016932</td>\n",
       "      <td>2</td>\n",
       "      <td>677930037</td>\n",
       "      <td>[867969008, 562245001, 867969003, 682550002, 5...</td>\n",
       "      <td>7</td>\n",
       "    </tr>\n",
       "  </tbody>\n",
       "</table>\n",
       "<p>12752556 rows × 7 columns</p>\n",
       "</div>"
      ],
      "text/plain": [
       "              t_dat                                        customer_id  \\\n",
       "0        2019-09-01  000f7535bdc611ad136a9f04746d6b1431f50a7f60fbbe...   \n",
       "1        2019-09-01  000f7535bdc611ad136a9f04746d6b1431f50a7f60fbbe...   \n",
       "2        2019-09-01  000f7535bdc611ad136a9f04746d6b1431f50a7f60fbbe...   \n",
       "3        2019-09-01  000f7535bdc611ad136a9f04746d6b1431f50a7f60fbbe...   \n",
       "4        2019-11-16  000f7535bdc611ad136a9f04746d6b1431f50a7f60fbbe...   \n",
       "...             ...                                                ...   \n",
       "15670405 2020-09-22  fe99a0069d6b3c64c2707d0ce53b9311540917471d82df...   \n",
       "15670406 2020-09-22  fe99a0069d6b3c64c2707d0ce53b9311540917471d82df...   \n",
       "15670407 2020-09-22  fe99a0069d6b3c64c2707d0ce53b9311540917471d82df...   \n",
       "15670408 2020-09-22  fe99a0069d6b3c64c2707d0ce53b9311540917471d82df...   \n",
       "15670409 2020-09-22  fe99a0069d6b3c64c2707d0ce53b9311540917471d82df...   \n",
       "\n",
       "             price  sales_channel_id    item_id  \\\n",
       "0         0.016932                 1  727880001   \n",
       "1         0.008458                 1  767869001   \n",
       "2         0.008458                 1  717490010   \n",
       "3         0.025407                 1  547780022   \n",
       "4         0.022017                 1  817953001   \n",
       "...            ...               ...        ...   \n",
       "15670405  0.033881                 2  867969003   \n",
       "15670406  0.033881                 2  682550002   \n",
       "15670407  0.023712                 2  562245018   \n",
       "15670408  0.042356                 2  816598018   \n",
       "15670409  0.016932                 2  677930037   \n",
       "\n",
       "                                                 article_id  count  \n",
       "0         [727880001, 767869001, 717490010, 547780022, 8...     24  \n",
       "1         [727880001, 767869001, 717490010, 547780022, 8...     24  \n",
       "2         [727880001, 767869001, 717490010, 547780022, 8...     24  \n",
       "3         [727880001, 767869001, 717490010, 547780022, 8...     24  \n",
       "4         [727880001, 767869001, 717490010, 547780022, 8...     24  \n",
       "...                                                     ...    ...  \n",
       "15670405  [867969008, 562245001, 867969003, 682550002, 5...      7  \n",
       "15670406  [867969008, 562245001, 867969003, 682550002, 5...      7  \n",
       "15670407  [867969008, 562245001, 867969003, 682550002, 5...      7  \n",
       "15670408  [867969008, 562245001, 867969003, 682550002, 5...      7  \n",
       "15670409  [867969008, 562245001, 867969003, 682550002, 5...      7  \n",
       "\n",
       "[12752556 rows x 7 columns]"
      ]
     },
     "execution_count": 20,
     "metadata": {},
     "output_type": "execute_result"
    }
   ],
   "source": [
    "trans3"
   ]
  },
  {
   "cell_type": "code",
   "execution_count": 30,
   "metadata": {},
   "outputs": [],
   "source": [
    "trans4 = trans3[(trans3['t_dat']>'2020-08-15') & (trans3['t_dat']<='2020-09-15')]\n",
    "trans5 = trans3[(trans3['t_dat']>'2020-09-15')]\n"
   ]
  },
  {
   "cell_type": "code",
   "execution_count": 31,
   "metadata": {},
   "outputs": [
    {
     "data": {
      "text/plain": [
       "920635"
      ]
     },
     "execution_count": 31,
     "metadata": {},
     "output_type": "execute_result"
    }
   ],
   "source": [
    "len(trans4)"
   ]
  },
  {
   "cell_type": "code",
   "execution_count": 32,
   "metadata": {},
   "outputs": [
    {
     "data": {
      "text/plain": [
       "190406"
      ]
     },
     "execution_count": 32,
     "metadata": {},
     "output_type": "execute_result"
    }
   ],
   "source": [
    "len(trans5)"
   ]
  },
  {
   "cell_type": "code",
   "execution_count": 33,
   "metadata": {},
   "outputs": [
    {
     "data": {
      "text/html": [
       "<div>\n",
       "<style scoped>\n",
       "    .dataframe tbody tr th:only-of-type {\n",
       "        vertical-align: middle;\n",
       "    }\n",
       "\n",
       "    .dataframe tbody tr th {\n",
       "        vertical-align: top;\n",
       "    }\n",
       "\n",
       "    .dataframe thead th {\n",
       "        text-align: right;\n",
       "    }\n",
       "</style>\n",
       "<table border=\"1\" class=\"dataframe\">\n",
       "  <thead>\n",
       "    <tr style=\"text-align: right;\">\n",
       "      <th></th>\n",
       "      <th>customer_id</th>\n",
       "      <th>price</th>\n",
       "      <th>sales_channel_id</th>\n",
       "      <th>item_id</th>\n",
       "      <th>article_id</th>\n",
       "      <th>count</th>\n",
       "    </tr>\n",
       "    <tr>\n",
       "      <th>t_dat</th>\n",
       "      <th></th>\n",
       "      <th></th>\n",
       "      <th></th>\n",
       "      <th></th>\n",
       "      <th></th>\n",
       "      <th></th>\n",
       "    </tr>\n",
       "  </thead>\n",
       "  <tbody>\n",
       "    <tr>\n",
       "      <th>2020-09-16</th>\n",
       "      <td>21489</td>\n",
       "      <td>21489</td>\n",
       "      <td>21489</td>\n",
       "      <td>21489</td>\n",
       "      <td>21489</td>\n",
       "      <td>21489</td>\n",
       "    </tr>\n",
       "    <tr>\n",
       "      <th>2020-09-17</th>\n",
       "      <td>31796</td>\n",
       "      <td>31796</td>\n",
       "      <td>31796</td>\n",
       "      <td>31796</td>\n",
       "      <td>31796</td>\n",
       "      <td>31796</td>\n",
       "    </tr>\n",
       "    <tr>\n",
       "      <th>2020-09-18</th>\n",
       "      <td>30919</td>\n",
       "      <td>30919</td>\n",
       "      <td>30919</td>\n",
       "      <td>30919</td>\n",
       "      <td>30919</td>\n",
       "      <td>30919</td>\n",
       "    </tr>\n",
       "    <tr>\n",
       "      <th>2020-09-19</th>\n",
       "      <td>29900</td>\n",
       "      <td>29900</td>\n",
       "      <td>29900</td>\n",
       "      <td>29900</td>\n",
       "      <td>29900</td>\n",
       "      <td>29900</td>\n",
       "    </tr>\n",
       "    <tr>\n",
       "      <th>2020-09-20</th>\n",
       "      <td>24935</td>\n",
       "      <td>24935</td>\n",
       "      <td>24935</td>\n",
       "      <td>24935</td>\n",
       "      <td>24935</td>\n",
       "      <td>24935</td>\n",
       "    </tr>\n",
       "    <tr>\n",
       "      <th>2020-09-21</th>\n",
       "      <td>25775</td>\n",
       "      <td>25775</td>\n",
       "      <td>25775</td>\n",
       "      <td>25775</td>\n",
       "      <td>25775</td>\n",
       "      <td>25775</td>\n",
       "    </tr>\n",
       "    <tr>\n",
       "      <th>2020-09-22</th>\n",
       "      <td>25592</td>\n",
       "      <td>25592</td>\n",
       "      <td>25592</td>\n",
       "      <td>25592</td>\n",
       "      <td>25592</td>\n",
       "      <td>25592</td>\n",
       "    </tr>\n",
       "  </tbody>\n",
       "</table>\n",
       "</div>"
      ],
      "text/plain": [
       "            customer_id  price  sales_channel_id  item_id  article_id  count\n",
       "t_dat                                                                       \n",
       "2020-09-16        21489  21489             21489    21489       21489  21489\n",
       "2020-09-17        31796  31796             31796    31796       31796  31796\n",
       "2020-09-18        30919  30919             30919    30919       30919  30919\n",
       "2020-09-19        29900  29900             29900    29900       29900  29900\n",
       "2020-09-20        24935  24935             24935    24935       24935  24935\n",
       "2020-09-21        25775  25775             25775    25775       25775  25775\n",
       "2020-09-22        25592  25592             25592    25592       25592  25592"
      ]
     },
     "execution_count": 33,
     "metadata": {},
     "output_type": "execute_result"
    }
   ],
   "source": [
    "trans5.groupby('t_dat').count()"
   ]
  },
  {
   "cell_type": "code",
   "execution_count": 35,
   "metadata": {},
   "outputs": [],
   "source": [
    "use_item = set(trans3.item_id.to_list())\n",
    "use_user = set(trans3.customer_id.to_list())"
   ]
  },
  {
   "cell_type": "code",
   "execution_count": 37,
   "metadata": {},
   "outputs": [
    {
     "data": {
      "text/plain": [
       "(594381, 70941)"
      ]
     },
     "execution_count": 37,
     "metadata": {},
     "output_type": "execute_result"
    }
   ],
   "source": [
    "len(use_user),len(use_item)"
   ]
  },
  {
   "cell_type": "code",
   "execution_count": 43,
   "metadata": {},
   "outputs": [
    {
     "data": {
      "text/html": [
       "<div>\n",
       "<style scoped>\n",
       "    .dataframe tbody tr th:only-of-type {\n",
       "        vertical-align: middle;\n",
       "    }\n",
       "\n",
       "    .dataframe tbody tr th {\n",
       "        vertical-align: top;\n",
       "    }\n",
       "\n",
       "    .dataframe thead th {\n",
       "        text-align: right;\n",
       "    }\n",
       "</style>\n",
       "<table border=\"1\" class=\"dataframe\">\n",
       "  <thead>\n",
       "    <tr style=\"text-align: right;\">\n",
       "      <th></th>\n",
       "      <th>article_id</th>\n",
       "      <th>product_code</th>\n",
       "      <th>prod_name</th>\n",
       "      <th>product_type_no</th>\n",
       "      <th>product_type_name</th>\n",
       "      <th>product_group_name</th>\n",
       "      <th>graphical_appearance_no</th>\n",
       "      <th>graphical_appearance_name</th>\n",
       "      <th>colour_group_code</th>\n",
       "      <th>colour_group_name</th>\n",
       "      <th>...</th>\n",
       "      <th>department_name</th>\n",
       "      <th>index_code</th>\n",
       "      <th>index_name</th>\n",
       "      <th>index_group_no</th>\n",
       "      <th>index_group_name</th>\n",
       "      <th>section_no</th>\n",
       "      <th>section_name</th>\n",
       "      <th>garment_group_no</th>\n",
       "      <th>garment_group_name</th>\n",
       "      <th>detail_desc</th>\n",
       "    </tr>\n",
       "  </thead>\n",
       "  <tbody>\n",
       "    <tr>\n",
       "      <th>0</th>\n",
       "      <td>108775015</td>\n",
       "      <td>108775</td>\n",
       "      <td>Strap top</td>\n",
       "      <td>253</td>\n",
       "      <td>Vest top</td>\n",
       "      <td>Garment Upper body</td>\n",
       "      <td>1010016</td>\n",
       "      <td>Solid</td>\n",
       "      <td>9</td>\n",
       "      <td>Black</td>\n",
       "      <td>...</td>\n",
       "      <td>Jersey Basic</td>\n",
       "      <td>A</td>\n",
       "      <td>Ladieswear</td>\n",
       "      <td>1</td>\n",
       "      <td>Ladieswear</td>\n",
       "      <td>16</td>\n",
       "      <td>Womens Everyday Basics</td>\n",
       "      <td>1002</td>\n",
       "      <td>Jersey Basic</td>\n",
       "      <td>Jersey top with narrow shoulder straps.</td>\n",
       "    </tr>\n",
       "    <tr>\n",
       "      <th>1</th>\n",
       "      <td>108775044</td>\n",
       "      <td>108775</td>\n",
       "      <td>Strap top</td>\n",
       "      <td>253</td>\n",
       "      <td>Vest top</td>\n",
       "      <td>Garment Upper body</td>\n",
       "      <td>1010016</td>\n",
       "      <td>Solid</td>\n",
       "      <td>10</td>\n",
       "      <td>White</td>\n",
       "      <td>...</td>\n",
       "      <td>Jersey Basic</td>\n",
       "      <td>A</td>\n",
       "      <td>Ladieswear</td>\n",
       "      <td>1</td>\n",
       "      <td>Ladieswear</td>\n",
       "      <td>16</td>\n",
       "      <td>Womens Everyday Basics</td>\n",
       "      <td>1002</td>\n",
       "      <td>Jersey Basic</td>\n",
       "      <td>Jersey top with narrow shoulder straps.</td>\n",
       "    </tr>\n",
       "  </tbody>\n",
       "</table>\n",
       "<p>2 rows × 25 columns</p>\n",
       "</div>"
      ],
      "text/plain": [
       "   article_id  product_code  prod_name  product_type_no product_type_name  \\\n",
       "0   108775015        108775  Strap top              253          Vest top   \n",
       "1   108775044        108775  Strap top              253          Vest top   \n",
       "\n",
       "   product_group_name  graphical_appearance_no graphical_appearance_name  \\\n",
       "0  Garment Upper body                  1010016                     Solid   \n",
       "1  Garment Upper body                  1010016                     Solid   \n",
       "\n",
       "   colour_group_code colour_group_name  ...  department_name index_code  \\\n",
       "0                  9             Black  ...     Jersey Basic          A   \n",
       "1                 10             White  ...     Jersey Basic          A   \n",
       "\n",
       "   index_name index_group_no  index_group_name section_no  \\\n",
       "0  Ladieswear              1        Ladieswear         16   \n",
       "1  Ladieswear              1        Ladieswear         16   \n",
       "\n",
       "             section_name garment_group_no  garment_group_name  \\\n",
       "0  Womens Everyday Basics             1002        Jersey Basic   \n",
       "1  Womens Everyday Basics             1002        Jersey Basic   \n",
       "\n",
       "                               detail_desc  \n",
       "0  Jersey top with narrow shoulder straps.  \n",
       "1  Jersey top with narrow shoulder straps.  \n",
       "\n",
       "[2 rows x 25 columns]"
      ]
     },
     "execution_count": 43,
     "metadata": {},
     "output_type": "execute_result"
    }
   ],
   "source": [
    "item.head(2)"
   ]
  },
  {
   "cell_type": "code",
   "execution_count": 41,
   "metadata": {},
   "outputs": [],
   "source": [
    "user2 = user[user['customer_id'].apply(lambda x:x in use_user)]"
   ]
  },
  {
   "cell_type": "code",
   "execution_count": 44,
   "metadata": {},
   "outputs": [],
   "source": [
    "item2 = item[item['article_id'].apply(lambda x:x in use_item)]"
   ]
  },
  {
   "cell_type": "code",
   "execution_count": 46,
   "metadata": {},
   "outputs": [
    {
     "data": {
      "text/plain": [
       "(594381, 70941)"
      ]
     },
     "execution_count": 46,
     "metadata": {},
     "output_type": "execute_result"
    }
   ],
   "source": [
    "len(user2),len(item2)"
   ]
  },
  {
   "cell_type": "code",
   "execution_count": 47,
   "metadata": {},
   "outputs": [],
   "source": [
    "user2.to_csv('./dataset/user.csv', index=False)\n",
    "item2.to_csv('./dataset/item.csv', index=False)\n",
    "trans3.to_csv('./dataset/transaction.csv',index=False)"
   ]
  },
  {
   "cell_type": "code",
   "execution_count": null,
   "metadata": {},
   "outputs": [],
   "source": []
  }
 ],
 "metadata": {
  "kernelspec": {
   "display_name": "Pytorch-cpu",
   "language": "python",
   "name": "python3"
  },
  "language_info": {
   "codemirror_mode": {
    "name": "ipython",
    "version": 3
   },
   "file_extension": ".py",
   "mimetype": "text/x-python",
   "name": "python",
   "nbconvert_exporter": "python",
   "pygments_lexer": "ipython3",
   "version": "3.8.10"
  }
 },
 "nbformat": 4,
 "nbformat_minor": 2
}
